{
 "cells": [
  {
   "cell_type": "code",
   "execution_count": 2,
   "id": "2e357d16",
   "metadata": {},
   "outputs": [],
   "source": [
    "## import package\n",
    "import numpy as np\n",
    "import matplotlib.pyplot as plt"
   ]
  },
  {
   "cell_type": "code",
   "execution_count": 7,
   "id": "56d0b306",
   "metadata": {},
   "outputs": [],
   "source": [
    "## import data\n",
    "datas = np.genfromtxt('data.csv',delimiter=',')\n",
    "x = datas[:,0]\n",
    "y = datas[:,1]"
   ]
  },
  {
   "cell_type": "code",
   "execution_count": 10,
   "id": "3445aa94",
   "metadata": {},
   "outputs": [
    {
     "data": {
      "image/png": "[encoded data removed]",
      "text/plain": [
       "<Figure size 432x288 with 1 Axes>"
      ]
     },
     "metadata": {
      "needs_background": "light"
     },
     "output_type": "display_data"
    }
   ],
   "source": [
    "plt.scatter(x,y)\n",
    "plt.show()"
   ]
  },
  {
   "cell_type": "markdown",
   "id": "2781b3b2",
   "metadata": {},
   "source": [
    "# 定义损失函数"
   ]
  },
  {
   "cell_type": "code",
   "execution_count": 11,
   "id": "66af837a",
   "metadata": {},
   "outputs": [],
   "source": [
    "## 损失函数是系数的函数，还需要传入数据的x和y\n",
    "def compute_cost(w,b,points):\n",
    "    total_cost = 0\n",
    "    M = len(points)\n",
    "    \n",
    "    ## 逐点计算平方损失误差，然后求平均数\n",
    "    for i in range(M):\n",
    "        x = points[i,0]\n",
    "        y = points[i,1]\n",
    "        total_cost += (y- w * x -b)**2\n",
    "    \n",
    "    return total_cost/M"
   ]
  },
  {
   "cell_type": "markdown",
   "id": "f2a97bc6",
   "metadata": {},
   "source": [
    "# 定义算法拟合函数"
   ]
  },
  {
   "cell_type": "code",
   "execution_count": 15,
   "id": "2077d4a4",
   "metadata": {},
   "outputs": [],
   "source": [
    "## 定义核心拟合函数\n",
    "def fit(points):\n",
    "    M = len(points)\n",
    "    xBar = np.mean(points[:,0])\n",
    "    \n",
    "    sum_yx = 0\n",
    "    sum_x2 = 0\n",
    "    sum_delta = 0\n",
    "    \n",
    "    for i in range(len(points)):\n",
    "        x = points[i,0]\n",
    "        y = points[i,1]\n",
    "        sum_yx += y * (x-xBar)\n",
    "        sum_x2 += x ** 2\n",
    "    ## 根据公式计算w\n",
    "    w = sum_yx / (sum_x2 - M * (xBar**2))\n",
    "    \n",
    "    for i in range(len(points)):\n",
    "        x = points[i,0]\n",
    "        y = points[i,1]\n",
    "        sum_delta += (y-w*x)\n",
    "    \n",
    "    b = sum_delta / M\n",
    "    return w,b"
   ]
  },
  {
   "cell_type": "markdown",
   "id": "b45ce819",
   "metadata": {},
   "source": [
    "# 测试"
   ]
  },
  {
   "cell_type": "code",
   "execution_count": 17,
   "id": "af034e2a",
   "metadata": {},
   "outputs": [
    {
     "name": "stdout",
     "output_type": "stream",
     "text": [
      "w is:  1.3224310227553606\n",
      "b is:  7.991020982270348\n",
      "cost is:  110.25738346621316\n"
     ]
    }
   ],
   "source": [
    "w, b = fit(datas)\n",
    "\n",
    "print(\"w is: \", w)\n",
    "print(\"b is: \", b)\n",
    "\n",
    "cost = compute_cost(w, b, datas)\n",
    "\n",
    "print(\"cost is: \", cost)"
   ]
  },
  {
   "cell_type": "markdown",
   "id": "7670a58a",
   "metadata": {},
   "source": [
    "# 画出拟合曲线"
   ]
  },
  {
   "cell_type": "code",
   "execution_count": 18,
   "id": "e0a9d56c",
   "metadata": {},
   "outputs": [
    {
     "data": {
      "image/png": "[encoded data removed]",
      "text/plain": [
       "<Figure size 432x288 with 1 Axes>"
      ]
     },
     "metadata": {
      "needs_background": "light"
     },
     "output_type": "display_data"
    }
   ],
   "source": [
    "plt.scatter(x, y)\n",
    "# 针对每一个x，计算出预测的y值\n",
    "pred_y = w * x + b\n",
    "\n",
    "plt.plot(x, pred_y, c='r')\n",
    "plt.show()"
   ]
  },
  {
   "cell_type": "code",
   "execution_count": null,
   "id": "4b82c230",
   "metadata": {},
   "outputs": [],
   "source": []
  }
 ],
 "metadata": {
  "kernelspec": {
   "display_name": "Python 3 (ipykernel)",
   "language": "python",
   "name": "python3"
  },
  "language_info": {
   "codemirror_mode": {
    "name": "ipython",
    "version": 3
   },
   "file_extension": ".py",
   "mimetype": "text/x-python",
   "name": "python",
   "nbconvert_exporter": "python",
   "pygments_lexer": "ipython3",
   "version": "3.9.12"
  }
 },
 "nbformat": 4,
 "nbformat_minor": 5
}
