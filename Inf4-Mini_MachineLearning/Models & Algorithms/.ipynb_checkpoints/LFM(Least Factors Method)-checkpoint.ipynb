{
 "cells": [
  {
   "cell_type": "markdown",
   "id": "ee04b9a9",
   "metadata": {},
   "source": [
    "# LFM梯度下降算法实现"
   ]
  },
  {
   "cell_type": "markdown",
   "id": "d400d270",
   "metadata": {},
   "source": [
    "### 0. 引入依赖"
   ]
  },
  {
   "cell_type": "code",
   "execution_count": 1,
   "id": "54e2b64b",
   "metadata": {},
   "outputs": [],
   "source": [
    "import numpy as np\n",
    "import pandas as pd"
   ]
  },
  {
   "cell_type": "markdown",
   "id": "5b7ed527",
   "metadata": {},
   "source": [
    "### 1. 数据准备"
   ]
  },
  {
   "cell_type": "code",
   "execution_count": 5,
   "id": "ef1af26c",
   "metadata": {},
   "outputs": [
    {
     "data": {
      "text/plain": [
       "5"
      ]
     },
     "execution_count": 5,
     "metadata": {},
     "output_type": "execute_result"
    }
   ],
   "source": [
    "# 评分矩阵R\n",
    "R = np.array([[4,4,2,4,1],\n",
    "             [1,2,3,0,0],\n",
    "             [3,3,2,4,0],\n",
    "             [5,2,0,3,1],\n",
    "             [1,2,1,5,1],\n",
    "             [0,3,2,4,1],])\n",
    "len(R[0])"
   ]
  },
  {
   "cell_type": "markdown",
   "id": "03c2c1b0",
   "metadata": {},
   "source": [
    "### 2. 算法实现"
   ]
  },
  {
   "cell_type": "code",
   "execution_count": 6,
   "id": "4a7f31ae",
   "metadata": {},
   "outputs": [],
   "source": [
    "\"\"\"\n",
    "@输入参数：\n",
    "R：M*N 的评分矩阵\n",
    "K：隐特征向量维度\n",
    "max_iter: 最大迭代次数\n",
    "alpha：步长\n",
    "lamda：正则化系数\n",
    "\n",
    "@输出：\n",
    "分解之后的 P，Q\n",
    "P：初始化用户特征矩阵M*K\n",
    "Q：初始化物品特征矩阵N*K\n",
    "\"\"\"\n",
    "\n",
    "# 给定超参数\n",
    "\n",
    "K = 5\n",
    "max_iter = 5000\n",
    "alpha = 0.0002\n",
    "lamda = 0.004\n",
    "\n",
    "# 核心算法\n",
    "def LFM_grad_desc( R, K=2, max_iter=1000, alpha=0.0001, lamda=0.002):\n",
    "    # 基本维度参数定义\n",
    "    M = len(R)\n",
    "    N = len(R[0])\n",
    "    \n",
    "    # P,Q初始值，随机生成\n",
    "    P = np.random.rand(M, K)\n",
    "    Q = np.random.rand(N, K)\n",
    "    Q = Q.T\n",
    "    \n",
    "    # 开始迭代\n",
    "    for step in range(max_iter):\n",
    "        # 对所有的用户u、物品i做遍历，对应的特征向量Pu、Qi梯度下降\n",
    "        for u in range(M):\n",
    "            for i in range(N):\n",
    "                # 对于每一个大于0的评分，求出预测评分误差\n",
    "                if R[u][i] > 0:\n",
    "                    eui = np.dot( P[u,:], Q[:,i] ) - R[u][i]\n",
    "                    \n",
    "                    # 代入公式，按照梯度下降算法更新当前的Pu、Qi\n",
    "                    for k in range(K):\n",
    "                        P[u][k] = P[u][k] - alpha * ( 2 * eui * Q[k][i] + 2 * lamda * P[u][k] )\n",
    "                        Q[k][i] = Q[k][i] - alpha * ( 2 * eui * P[u][k] + 2 * lamda * Q[k][i] )\n",
    "        \n",
    "        # u、i遍历完成，所有特征向量更新完成，可以得到P、Q，可以计算预测评分矩阵\n",
    "        predR = np.dot( P, Q )\n",
    "        \n",
    "        # 计算当前损失函数\n",
    "        cost = 0\n",
    "        for u in range(M):\n",
    "            for i in range(N):\n",
    "                if R[u][i] > 0:\n",
    "                    cost += ( np.dot( P[u,:], Q[:,i] ) - R[u][i] ) ** 2\n",
    "                    # 加上正则化项\n",
    "                    for k in range(K):\n",
    "                        cost += lamda * ( P[u][k] ** 2 + Q[k][i] ** 2 )\n",
    "        if cost < 0.0001:\n",
    "            break\n",
    "        \n",
    "    return P, Q.T, cost"
   ]
  },
  {
   "cell_type": "markdown",
   "id": "58daa261",
   "metadata": {},
   "source": [
    "### 3. 测试"
   ]
  },
  {
   "cell_type": "code",
   "execution_count": 7,
   "id": "83fa16f3",
   "metadata": {},
   "outputs": [
    {
     "name": "stdout",
     "output_type": "stream",
     "text": [
      "[[ 0.9179266   1.00375037  0.06243814  1.23424653  0.95099841]\n",
      " [-0.13437698  0.31430769  1.87905018  1.22165638  0.44665416]\n",
      " [ 0.76048302  0.446364    0.50244411  0.97140465  0.80613643]\n",
      " [ 1.95616132  0.69619753  0.5963862   0.20272795  0.30230481]\n",
      " [ 0.0102586  -0.25849055  1.13293199  0.9908161   0.70094664]\n",
      " [ 0.89766445  0.40330358  0.58419283  0.76115436  0.95786257]]\n",
      "[[ 2.07633106  0.79098309  0.08818344  0.52426283  0.66562527]\n",
      " [ 0.5072387   0.63162303 -0.10292354  1.25226227  1.40228611]\n",
      " [ 0.40714663  0.59092871  0.84536397  0.61815954  0.33032996]\n",
      " [ 0.44327269  0.26554728  2.10870007  1.77713184  1.02335256]\n",
      " [ 0.45471798 -0.29936398  0.19209649  0.5407165   0.22385022]]\n",
      "1.5035948020591539\n",
      "[[4 4 2 4 1]\n",
      " [1 2 3 0 0]\n",
      " [3 3 2 4 0]\n",
      " [5 2 0 3 1]\n",
      " [1 2 1 5 1]\n",
      " [0 3 2 4 1]]\n"
     ]
    },
    {
     "data": {
      "text/plain": [
       "array([[3.98545324, 3.97234561, 2.09676312, 3.97172375, 1.00916384],\n",
       "       [1.07307542, 2.09313539, 2.62222543, 6.61438029, 0.9663163 ],\n",
       "       [3.02224428, 2.96285418, 1.86491961, 4.06641193, 1.01440609],\n",
       "       [4.97241482, 2.04837935, 1.93718955, 2.97922457, 0.9729383 ],\n",
       "       [0.9027603 , 1.94901897, 1.65319326, 4.80304605, 0.99233746],\n",
       "       [3.27099348, 2.94630105, 1.88458582, 4.06979653, 1.02565746]])"
      ]
     },
     "execution_count": 7,
     "metadata": {},
     "output_type": "execute_result"
    }
   ],
   "source": [
    "P, Q, cost = LFM_grad_desc(R, K, max_iter, alpha, lamda)\n",
    "\n",
    "print(P)\n",
    "print(Q)\n",
    "print(cost)\n",
    "\n",
    "predR = P.dot(Q.T)\n",
    "\n",
    "print(R)\n",
    "predR"
   ]
  },
  {
   "cell_type": "code",
   "execution_count": null,
   "id": "2b040fb3",
   "metadata": {},
   "outputs": [],
   "source": []
  }
 ],
 "metadata": {
  "kernelspec": {
   "display_name": "Python 3 (ipykernel)",
   "language": "python",
   "name": "python3"
  },
  "language_info": {
   "codemirror_mode": {
    "name": "ipython",
    "version": 3
   },
   "file_extension": ".py",
   "mimetype": "text/x-python",
   "name": "python",
   "nbconvert_exporter": "python",
   "pygments_lexer": "ipython3",
   "version": "3.9.12"
  }
 },
 "nbformat": 4,
 "nbformat_minor": 5
}
