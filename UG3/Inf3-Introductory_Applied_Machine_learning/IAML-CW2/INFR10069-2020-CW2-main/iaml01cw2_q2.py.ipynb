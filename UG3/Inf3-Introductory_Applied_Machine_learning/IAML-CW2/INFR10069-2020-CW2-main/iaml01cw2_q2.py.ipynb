{
 "cells": [
  {
   "cell_type": "code",
   "execution_count": 1,
   "metadata": {},
   "outputs": [
    {
     "name": "stderr",
     "output_type": "stream",
     "text": [
      "F:\\Python3.6\\ANACONDA\\envs\\py3iaml\\lib\\site-packages\\sklearn\\utils\\__init__.py:4: DeprecationWarning: Using or importing the ABCs from 'collections' instead of from 'collections.abc' is deprecated since Python 3.3,and in 3.9 it will stop working\n",
      "  from collections import Sequence\n"
     ]
    }
   ],
   "source": [
    "import os\n",
    "import numpy as np \n",
    "import pandas as pd\n",
    "import matplotlib.pyplot as plt\n",
    "import seaborn as sns\n",
    "from sklearn.model_selection import train_test_split\n",
    "from sklearn.linear_model import LogisticRegression\n",
    "from sklearn.svm import LinearSVC, SVC\n",
    "from sklearn.neighbors import KNeighborsClassifier\n",
    "from sklearn.metrics import confusion_matrix, log_loss\n",
    "from pandas.api.types import CategoricalDtype\n",
    "KNeighboursClassifier = KNeighborsClassifier # For the Brits!\n",
    "%matplotlib inline\n",
    "from sklearn.decomposition import PCA\n",
    "from sklearn.metrics import mean_squared_error\n",
    "from math import sqrt\n",
    "import copy\n",
    "from sklearn.linear_model import LogisticRegression\n",
    "from sklearn.svm import SVC\n",
    "from sklearn import linear_model\n",
    "from sklearn.linear_model import LinearRegression\n",
    "from sklearn.metrics import confusion_matrix\n",
    "from sklearn import preprocessing\n",
    "import sklearn"
   ]
  },
  {
   "cell_type": "code",
   "execution_count": 2,
   "metadata": {},
   "outputs": [
    {
     "name": "stdout",
     "output_type": "stream",
     "text": [
      "0.19.1\n"
     ]
    }
   ],
   "source": [
    "print(sklearn.__version__)"
   ]
  },
  {
   "cell_type": "code",
   "execution_count": 3,
   "metadata": {},
   "outputs": [
    {
     "name": "stdout",
     "output_type": "stream",
     "text": [
      "(60000, 784)\n"
     ]
    }
   ],
   "source": [
    "import iaml01cw2_helpers\n",
    "Xtrn, Ytrn, Xtst, Ytst = iaml01cw2_helpers.load_FashionMNIST(\"data/fashion\")\n",
    "Xtrn_np = np.array(Xtrn)\n",
    "Xtrn_backup = copy.deepcopy(Xtrn)\n",
    "Xtst_backup = copy.deepcopy(Xtst)\n",
    "print(Xtrn.shape)\n",
    "Xtrn = Xtrn/255.0\n",
    "Xtst = Xtst/255.0\n",
    "Xmean = np.mean(Xtrn,axis=0)\n",
    "Xtrn_nm = Xtrn-Xmean\n",
    "Xtst_nm = Xtst-Xmean"
   ]
  },
  {
   "cell_type": "code",
   "execution_count": 4,
   "metadata": {},
   "outputs": [
    {
     "name": "stdout",
     "output_type": "stream",
     "text": [
      "0.8401\n",
      "[[819   3  15  50   7   4  90   1  11   0]\n",
      " [  5 953   4  27   5   0   3   1   2   0]\n",
      " [ 27   4 731  11 133   0  82   2   9   1]\n",
      " [ 31  15  14 866  33   0  37   0   4   0]\n",
      " [  0   3 115  38 760   2  72   0  10   0]\n",
      " [  2   0   0   1   0 911   0  56  10  20]\n",
      " [147   3 128  46 108   0 539   0  28   1]\n",
      " [  0   0   0   0   0  32   0 936   1  31]\n",
      " [  7   1   6  11   3   7  15   5 945   0]\n",
      " [  0   0   0   1   0  15   1  42   0 941]]\n"
     ]
    }
   ],
   "source": [
    "# Question 2.1\n",
    "\n",
    "# Ytrn_predict = LogicReg.predict(Xtrn_nm)\n",
    "# Ytrn_score = LogicReg.score(Xtrn_nm,Ytrn)\n",
    "# confusion_matrix_value = confusion_matrix(Ytrn, Ytrn_predict)\n",
    "\n",
    "LogicReg = LogisticRegression()\n",
    "LogicReg.fit(Xtrn_nm,Ytrn)\n",
    "Ytst_predict = LogicReg.predict(Xtst_nm)\n",
    "Ytst_score = LogicReg.score(Xtst_nm,Ytst)\n",
    "confusion_matrix_value = confusion_matrix(Ytst, Ytst_predict)\n",
    "\n",
    "print(Ytst_score)\n",
    "print(confusion_matrix_value)\n",
    "\n"
   ]
  },
  {
   "cell_type": "code",
   "execution_count": 5,
   "metadata": {},
   "outputs": [
    {
     "name": "stdout",
     "output_type": "stream",
     "text": [
      "0.8461\n",
      "[[845   2   8  51   4   4  72   0  14   0]\n",
      " [  4 951   7  31   5   0   1   0   1   0]\n",
      " [ 15   2 748  11 137   0  79   0   8   0]\n",
      " [ 32   6  12 881  26   0  40   0   3   0]\n",
      " [  1   0  98  36 775   0  86   0   4   0]\n",
      " [  0   0   0   1   0 914   0  57   2  26]\n",
      " [185   1 122  39  95   0 533   0  25   0]\n",
      " [  0   0   0   0   0  34   0 925   0  41]\n",
      " [  3   1   8   5   2   4  13   4 959   1]\n",
      " [  0   0   0   0   0  22   0  47   1 930]]\n"
     ]
    }
   ],
   "source": [
    "\n",
    "# Question 2.2\n",
    "svc = SVC()\n",
    "svc.fit(Xtrn_nm,Ytrn)\n",
    "Ytst_predict = svc.predict(Xtst_nm)\n",
    "Ytst_score = svc.score(Xtst_nm,Ytst)\n",
    "confusion_matrix_value = confusion_matrix(Ytst, Ytst_predict)\n",
    "print(Ytst_score)\n",
    "# print(Ytrn_predict)\n",
    "print(confusion_matrix_value)"
   ]
  },
  {
   "cell_type": "code",
   "execution_count": 9,
   "metadata": {},
   "outputs": [],
   "source": [
    "# arrayIndex = [[],[],[],[],[],[],[],[],[],[]]\n",
    "\n",
    "# for i in range(60000):\n",
    "#     if (Ytrn[i] == 0):\n",
    "#         arrayIndex[0].append(i)\n",
    "#     if (Ytrn[i] == 1):\n",
    "#         arrayIndex[1].append(i)\n",
    "#     if (Ytrn[i] == 2):\n",
    "#         arrayIndex[2].append(i)\n",
    "#     if (Ytrn[i] == 3):\n",
    "#         arrayIndex[3].append(i)\n",
    "#     if (Ytrn[i] == 4):\n",
    "#         arrayIndex[4].append(i)\n",
    "#     if (Ytrn[i] == 5):\n",
    "#         arrayIndex[5].append(i)\n",
    "#     if (Ytrn[i] == 6):\n",
    "#         arrayIndex[6].append(i)\n",
    "#     if (Ytrn[i] == 7):\n",
    "#         arrayIndex[7].append(i)\n",
    "#     if (Ytrn[i] == 8):\n",
    "#         arrayIndex[8].append(i)\n",
    "#     if (Ytrn[i] == 9):\n",
    "#         arrayIndex[9].append(i)"
   ]
  },
  {
   "cell_type": "code",
   "execution_count": null,
   "metadata": {},
   "outputs": [],
   "source": [
    "arrayCollection = [[],[],[],[],[],[],[],[],[],[]]\n",
    "\n",
    "for i in range(60000):\n",
    "    if (Ytrn[i] == 0):\n",
    "        arrayCollection[0].append(Xtrn[i])\n",
    "    if (Ytrn[i] == 1):\n",
    "        arrayCollection[1].append(Xtrn[i])\n",
    "    if (Ytrn[i] == 2):\n",
    "        arrayCollection[2].append(Xtrn[i])\n",
    "    if (Ytrn[i] == 3):\n",
    "        arrayCollection[3].append(Xtrn[i])\n",
    "    if (Ytrn[i] == 4):\n",
    "        arrayCollection[4].append(Xtrn[i])\n",
    "    if (Ytrn[i] == 5):\n",
    "        arrayCollection[5].append(Xtrn[i])\n",
    "    if (Ytrn[i] == 6):\n",
    "        arrayCollection[6].append(Xtrn[i])\n",
    "    if (Ytrn[i] == 7):\n",
    "        arrayCollection[7].append(Xtrn[i])\n",
    "    if (Ytrn[i] == 8):\n",
    "        arrayCollection[8].append(Xtrn[i])\n",
    "    if (Ytrn[i] == 9):\n",
    "        arrayCollection[9].append(Xtrn[i])"
   ]
  },
  {
   "cell_type": "code",
   "execution_count": 6,
   "metadata": {},
   "outputs": [
    {
     "data": {
      "image/png": "[encoded data removed]",
      "text/plain": [
       "<Figure size 432x288 with 2 Axes>"
      ]
     },
     "metadata": {
      "needs_background": "light"
     },
     "output_type": "display_data"
    }
   ],
   "source": [
    "# Question 2.3\n",
    "pca = PCA(n_components = 2)\n",
    "twoD_Xtrn_nm = pca.fit_transform(Xtrn_nm)\n",
    "class_array_X = twoD_Xtrn_nm[:,0]\n",
    "class_array_Y = twoD_Xtrn_nm[:,1]\n",
    "std_X = np.std(class_array_X)\n",
    "std_Y = np.std(class_array_Y)\n",
    "\n",
    "x1 = np.linspace((-5*std_X),(5*std_X),100)\n",
    "y1 = np.linspace((-5*std_Y),(5*std_Y),100)\n",
    "x,y = np.meshgrid(x1,y1)\n",
    "\n",
    "# print(x[0][0])\n",
    "# print(x[0][1])\n",
    "# print(x[0][2])\n",
    "# print(x[0][3])\n",
    "# print(x[0][4])\n",
    "# print()\n",
    "# print(x[1][0])\n",
    "# print(x[1][1])\n",
    "# print(x[1][2])\n",
    "# print(x[1][3])\n",
    "# print(x[1][4])\n",
    "# print(x1)\n",
    "\n",
    "\n",
    "\n",
    "\n",
    "\n",
    "data = [] \n",
    "for i in range(100):\n",
    "    for j in range(100):\n",
    "        data.append([x[i][j],y[i][j]])\n",
    "\n",
    "pca_inverse = pca.inverse_transform(data)\n",
    "lr = LogisticRegression()\n",
    "lr.fit(Xtrn_nm,Ytrn)\n",
    "lr_predict = lr.predict(pca_inverse).reshape(x.shape)\n",
    "# print(lr_predict.shape)\n",
    "  \n",
    "plt.contourf(x,y,lr_predict,cmap=plt.cm.get_cmap(\"coolwarm\",10),levels = np.arange(-1,10))\n",
    "plt.xlabel(\"Std of First Principal Component\")\n",
    "plt.ylabel(\"Std of Second Principal Component\")\n",
    "plt.title(\"Decision Regions for the Logistic Regression\")\n",
    "cb = plt.colorbar(shrink = 1)\n",
    "cb.set_ticks(np.linspace(-0.5,8.5,10))\n",
    "cb.set_ticklabels(np.arange(0,10))\n",
    "cb.set_label(\"color of each class\",size = 10)\n",
    "plt.savefig(\"Question 2.3.png\")\n",
    "\n",
    "# plt.colorbar().set_ticks(np.arange(-0.5,1,5))\n",
    "# plt.colorbar().set_ticklabels(np.arange(0,10))\n",
    "\n",
    "\n",
    "# print(data2[0])\n",
    "# print(data2[1])\n",
    "# print(data2[2])\n",
    "# print(data2[100])\n",
    "# print(data2[1000])\n",
    "# print(data2[9999])\n",
    "\n",
    "# class_array_X =  = [[],[],[],[],[],[],[],[],[],[]]\n",
    "# class_array_Y = [[],[],[],[],[],[],[],[],[],[]]\n",
    "\n",
    "\n",
    "# for i in range(10):\n",
    "#     for j in range(100):\n",
    "#         index = arrayIndex[i][j]\n",
    "#         class_array_X[i].append(twoD_Xtrn_nm[index][0])\n",
    "#         class_array_Y[i].append(twoD_Xtrn_nm[index][1])\n",
    "\n",
    "\n",
    "\n"
   ]
  },
  {
   "cell_type": "code",
   "execution_count": 7,
   "metadata": {},
   "outputs": [
    {
     "name": "stdout",
     "output_type": "stream",
     "text": [
      "(100, 100)\n"
     ]
    },
    {
     "data": {
      "image/png": "[encoded data removed]",
      "text/plain": [
       "<Figure size 432x288 with 2 Axes>"
      ]
     },
     "metadata": {
      "needs_background": "light"
     },
     "output_type": "display_data"
    }
   ],
   "source": [
    "# Question 2.4\n",
    "pca = PCA(n_components = 2)\n",
    "twoD_Xtrn_nm = pca.fit_transform(Xtrn_nm)\n",
    "class_array_X = twoD_Xtrn_nm[:,0]\n",
    "class_array_Y = twoD_Xtrn_nm[:,1]\n",
    "std_X = np.std(class_array_X)\n",
    "std_Y = np.std(class_array_Y)\n",
    "\n",
    "x1 = np.linspace((-5*std_X),(5*std_X),100)\n",
    "y1 = np.linspace((-5*std_Y),(5*std_Y),100)\n",
    "x,y = np.meshgrid(x1,y1)\n",
    "\n",
    "data = [] \n",
    "for i in range(100):\n",
    "    for j in range(100):\n",
    "        data.append([x[i][j],y[i][j]])\n",
    "\n",
    "pca_inverse = pca.inverse_transform(data)\n",
    "svc = SVC()\n",
    "svc.fit(Xtrn_nm,Ytrn)\n",
    "svc_predict = svc.predict(pca_inverse).reshape(x.shape)\n",
    "print(svc_predict.shape)\n",
    "\n",
    "\n",
    "\n",
    "plt.contourf(x,y,svc_predict,cmap=plt.cm.get_cmap(\"coolwarm\",10),levels = np.arange(-1,10))\n",
    "plt.xlabel(\"Std of First Principal Component\")\n",
    "plt.ylabel(\"Std of Second Principal Component\")\n",
    "plt.title(\"Decision Regions for the SVM\")\n",
    "cb = plt.colorbar(shrink = 1)\n",
    "cb.set_ticks(np.linspace(-0.5,8.5,10))\n",
    "cb.set_ticklabels(np.arange(0,10))\n",
    "cb.set_label(\"color of each class\",size = 10)\n",
    "plt.savefig(\"Question 2.4.png\")\n",
    "\n",
    "\n",
    "\n"
   ]
  },
  {
   "cell_type": "code",
   "execution_count": 10,
   "metadata": {},
   "outputs": [],
   "source": [
    "# Question 2.5\n",
    "arrayIndex = [[],[],[],[],[],[],[],[],[],[]]\n",
    "\n",
    "for i in range(60000):\n",
    "    if (Ytrn[i] == 0):\n",
    "        arrayIndex[0].append(i)\n",
    "    if (Ytrn[i] == 1):\n",
    "        arrayIndex[1].append(i)\n",
    "    if (Ytrn[i] == 2):\n",
    "        arrayIndex[2].append(i)\n",
    "    if (Ytrn[i] == 3):\n",
    "        arrayIndex[3].append(i)\n",
    "    if (Ytrn[i] == 4):\n",
    "        arrayIndex[4].append(i)\n",
    "    if (Ytrn[i] == 5):\n",
    "        arrayIndex[5].append(i)\n",
    "    if (Ytrn[i] == 6):\n",
    "        arrayIndex[6].append(i)\n",
    "    if (Ytrn[i] == 7):\n",
    "        arrayIndex[7].append(i)\n",
    "    if (Ytrn[i] == 8):\n",
    "        arrayIndex[8].append(i)\n",
    "    if (Ytrn[i] == 9):\n",
    "        arrayIndex[9].append(i)\n",
    "\n",
    "Xsmall = []\n",
    "Ysmall = []\n",
    "for i in range(10):\n",
    "    for j in range(1000):\n",
    "        index = arrayIndex[i][j]\n",
    "        Xsmall.append(Xtrn[index])\n",
    "        Ysmall.append(Ytrn[index])\n"
   ]
  },
  {
   "cell_type": "code",
   "execution_count": 17,
   "metadata": {},
   "outputs": [
    {
     "name": "stdout",
     "output_type": "stream",
     "text": [
      "Accuracy: 0.82 (+/- 0.01)\n"
     ]
    }
   ],
   "source": [
    "from sklearn.model_selection import cross_val_score\n",
    "from sklearn import svm\n",
    "svc = svm.SVC(kernel='linear',gamma=\"auto\", C=1)\n",
    "scores = cross_val_score(svc, Xsmall, Ysmall, cv=3)\n",
    "\n",
    "print(\"Accuracy: %0.2f (+/- %0.2f)\" % (scores.mean(), scores.std() * 2))"
   ]
  },
  {
   "cell_type": "code",
   "execution_count": 15,
   "metadata": {},
   "outputs": [
    {
     "name": "stdout",
     "output_type": "stream",
     "text": [
      "Accuracy: 0.65 (+/- 0.01)\n",
      "Accuracy: 0.69 (+/- 0.01)\n",
      "Accuracy: 0.74 (+/- 0.01)\n",
      "Accuracy: 0.78 (+/- 0.01)\n",
      "Accuracy: 0.82 (+/- 0.01)\n",
      "Accuracy: 0.84 (+/- 0.01)\n",
      "Accuracy: 0.86 (+/- 0.00)\n",
      "Accuracy: 0.85 (+/- 0.01)\n",
      "Accuracy: 0.85 (+/- 0.01)\n",
      "Accuracy: 0.84 (+/- 0.01)\n"
     ]
    },
    {
     "data": {
      "image/png": "[encoded data removed]",
      "text/plain": [
       "<Figure size 432x288 with 1 Axes>"
      ]
     },
     "metadata": {
      "needs_background": "light"
     },
     "output_type": "display_data"
    }
   ],
   "source": [
    "# Question 2.5\n",
    "from sklearn.model_selection import cross_val_score\n",
    "from sklearn import svm\n",
    "score_array = []\n",
    "c_array = []\n",
    "for c in np.logspace(-2, 3, 10):\n",
    "    svc = svm.SVC(C=c)\n",
    "    scores = cross_val_score(svc, Xsmall, Ysmall, cv=3)\n",
    "    score_array.append(scores.mean())\n",
    "    c_array.append(c)\n",
    "    print(\"Accuracy: %0.2f (+/- %0.2f)\" % (scores.mean(), scores.std() * 2))\n",
    "plt.plot(c_array,score_array,label=\"different mean accuracy score in different penalty parameter C\")\n",
    "plt.scatter(c_array,score_array)\n",
    "plt.xscale('log')\n",
    "plt.xlabel(\"penalty parameter C\")\n",
    "plt.ylabel(\"mean accuracy score\")\n",
    "plt.title(\"Question 2.5 Graph\")\n",
    "plt.grid()\n",
    "plt.legend()\n"
   ]
  },
  {
   "cell_type": "code",
   "execution_count": 22,
   "metadata": {},
   "outputs": [
    {
     "data": {
      "image/png": "[encoded data removed]",
      "text/plain": [
       "<Figure size 432x288 with 1 Axes>"
      ]
     },
     "metadata": {
      "needs_background": "light"
     },
     "output_type": "display_data"
    }
   ],
   "source": [
    "# Question 2.5\n",
    "plt.plot(c_array,score_array)\n",
    "plt.scatter(c_array,score_array)\n",
    "plt.xscale('log')\n",
    "plt.xlabel(\"penalty parameter C\")\n",
    "plt.ylabel(\"mean accuracy score\")\n",
    "plt.title(\"Question 2.5 Graph\")\n",
    "plt.grid()"
   ]
  },
  {
   "cell_type": "code",
   "execution_count": 23,
   "metadata": {},
   "outputs": [
    {
     "name": "stdout",
     "output_type": "stream",
     "text": [
      "[0.01, 0.03593813663804628, 0.1291549665014884, 0.464158883361278, 1.6681005372000592, 5.994842503189409, 21.544346900318846, 77.42636826811278, 278.2559402207126, 1000.0]\n",
      "[0.6481958005910101, 0.6910976845108582, 0.7367022711334088, 0.783804163444882, 0.8197017376658096, 0.8447012881144618, 0.8565023106939273, 0.8542039045033057, 0.8495030959102815, 0.8406013798229367]\n"
     ]
    }
   ],
   "source": [
    "# print(c_array)\n",
    "# print(score_array)"
   ]
  },
  {
   "cell_type": "code",
   "execution_count": 26,
   "metadata": {},
   "outputs": [
    {
     "data": {
      "text/plain": [
       "21.544346900318846"
      ]
     },
     "execution_count": 26,
     "metadata": {},
     "output_type": "execute_result"
    }
   ],
   "source": [
    "# c= c_array[6]\n",
    "# c"
   ]
  },
  {
   "cell_type": "code",
   "execution_count": 27,
   "metadata": {},
   "outputs": [
    {
     "name": "stdout",
     "output_type": "stream",
     "text": [
      "0.8765\n",
      "0.9084166666666667\n"
     ]
    }
   ],
   "source": [
    "# Question 2.6\n",
    "c_array = np.logspace(-2, 3, 10)\n",
    "c = c_array[6]\n",
    "svc = svm.SVC(C=c)\n",
    "svc.fit(Xtrn_nm,Ytrn)\n",
    "# Ytst_predict = svc.predict(Xtst_nm)\n",
    "Ytst_score = svc.score(Xtst_nm,Ytst)\n",
    "# Ytrn_predict = svc.predict(Xtrn_nm)\n",
    "Ytrn_score = svc.score(Xtrn_nm,Ytrn)\n",
    "print(Ytst_score)\n",
    "print(Ytrn_score)\n",
    "# scores = cross_val_score(svc, Xtrn, Ytrn, cv=3)\n",
    "# print(\"Accuracy: %0.2f (+/- %0.2f)\" % (scores.mean(), scores.std() * 2))"
   ]
  },
  {
   "cell_type": "code",
   "execution_count": null,
   "metadata": {},
   "outputs": [],
   "source": []
  },
  {
   "cell_type": "code",
   "execution_count": null,
   "metadata": {},
   "outputs": [],
   "source": []
  }
 ],
 "metadata": {
  "kernelspec": {
   "display_name": "Python 3",
   "language": "python",
   "name": "python3"
  },
  "language_info": {
   "codemirror_mode": {
    "name": "ipython",
    "version": 3
   },
   "file_extension": ".py",
   "mimetype": "text/x-python",
   "name": "python",
   "nbconvert_exporter": "python",
   "pygments_lexer": "ipython3",
   "version": "3.7.9"
  }
 },
 "nbformat": 4,
 "nbformat_minor": 4
}
